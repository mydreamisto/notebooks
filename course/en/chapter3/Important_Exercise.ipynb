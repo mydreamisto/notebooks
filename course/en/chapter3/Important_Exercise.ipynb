{
  "nbformat": 4,
  "nbformat_minor": 0,
  "metadata": {
    "colab": {
      "provenance": [],
      "authorship_tag": "ABX9TyPC4sZtRja11LQaeIiaa8Ny",
      "include_colab_link": true
    },
    "kernelspec": {
      "name": "python3",
      "display_name": "Python 3"
    },
    "language_info": {
      "name": "python"
    }
  },
  "cells": [
    {
      "cell_type": "markdown",
      "metadata": {
        "id": "view-in-github",
        "colab_type": "text"
      },
      "source": [
        "<a href=\"https://colab.research.google.com/github/mydreamisto/notebooks/blob/main/course/en/chapter3/Important_Exercise.ipynb\" target=\"_parent\"><img src=\"https://colab.research.google.com/assets/colab-badge.svg\" alt=\"Open In Colab\"/></a>"
      ]
    },
    {
      "cell_type": "markdown",
      "source": [
        "# Try it out! Fine-tune a model on the GLUE SST-2 dataset, using the data processing you did in section 2."
      ],
      "metadata": {
        "id": "O-9U6f1G3Di8"
      }
    },
    {
      "cell_type": "code",
      "source": [
        "!pip install datasets"
      ],
      "metadata": {
        "id": "BMgL8YVH4ADI"
      },
      "execution_count": null,
      "outputs": []
    },
    {
      "cell_type": "code",
      "source": [
        "from datasets import load_dataset\n",
        "raw_dataset = load_dataset(\"gimmaru/glue-sst2\")\n",
        "\n",
        "from transformers import AutoModel, AutoTokenizer, DataCollatorWithPadding\n",
        "checkpoint = \"bert-base-uncased\"\n",
        "model = AutoModel.from_pretrained(checkpoint)\n",
        "tokenizer = AutoTokenizer.from_pretrained(checkpoint)\n",
        "data_collator = DataCollatorWithPadding(tokenizer = tokenizer)\n",
        "\n",
        "def tokenize_function(example):\n",
        "  return tokenizer(example[\"sentence\"], truncation = True)\n",
        "tokenized_dataset = raw_dataset.map(tokenize_function, batched = True)\n",
        "samples = tokenized_dataset[\"validation\"][:8]\n",
        "samples = {k: v for k, v in samples.items() if k not in [\"idx\", \"sentence\"]}\n",
        "batch = data_collator(samples)"
      ],
      "metadata": {
        "id": "LKM5WZhT4C33"
      },
      "execution_count": null,
      "outputs": []
    },
    {
      "cell_type": "code",
      "source": [
        "# tokenized_dataset = raw_validation_dataset.map(tokenize_function, batched = True)\n",
        "# # 把原始文本以及无用index剔除\n",
        "# samples = {k: v for k, v in tokenized_dataset.items() if k not in [\"idx\", \"sentence\"]}\n",
        "# batch = data_collator(samples)"
      ],
      "metadata": {
        "id": "WrwhFf9r52t4"
      },
      "execution_count": null,
      "outputs": []
    },
    {
      "cell_type": "code",
      "source": [
        "# tokenized_dataset = raw_validation_dataset.map(tokenize_function, batched = True)\n",
        "# samples = {k: v for k, v in tokenized_dataset.items() if k not in [\"idx\", \"sentence\"]}\n",
        "# batch = data_collator(samples)"
      ],
      "metadata": {
        "id": "ysViOiXU8lgW"
      },
      "execution_count": null,
      "outputs": []
    },
    {
      "cell_type": "code",
      "source": [
        "from datasets import load_dataset\n",
        "\n",
        "# it is of DatasetDic(dictionary) tpye, which has items() method\n",
        "raw_dataset = load_dataset(\"gimmaru/glue-sst2\")\n",
        "# it is of Dataset(set) tpye, which has no items() method\n",
        "raw_validation_dataset = raw_dataset[\"validation\"]\n",
        "\n",
        "from transformers import AutoModel, AutoTokenizer, DataCollatorWithPadding\n",
        "checkpoint = \"bert-base-uncased\"\n",
        "model = AutoModel.from_pretrained(checkpoint)\n",
        "tokenizer = AutoTokenizer.from_pretrained(checkpoint)\n",
        "data_collator = DataCollatorWithPadding(tokenizer = tokenizer)\n",
        "\n",
        "# 定义的tokenize_function函数其参数是一个DatasetDic(dictionary)，其返回值也是一个DatasetDic(dictionary).\n",
        "def tokenize_function(example):\n",
        "  # example[\"sentence\"] is of Dataset type\n",
        "  return tokenizer(example[\"sentence\"], truncation = True)\n",
        "# Dataset.map() 对Dataset里的每个元素都调用一次tokenize_function函数，其返回的也是字典\n",
        "tokenized_dataset = raw_dataset.map(tokenize_function, batched = True)\n",
        "\n",
        "# it is of dictionary tpye, which has items() method\n",
        "samples = tokenized_dataset[\"validation\"][:8]\n",
        "samples = {k: v for k, v in samples.items() if k not in [\"idx\", \"sentence\"]}\n",
        "batch = data_collator(samples)"
      ],
      "metadata": {
        "colab": {
          "base_uri": "https://localhost:8080/"
        },
        "id": "wLyGcMES9q8d",
        "outputId": "be9a4555-7492-4509-886b-ca663b924ad0"
      },
      "execution_count": null,
      "outputs": [
        {
          "output_type": "execute_result",
          "data": {
            "text/plain": [
              "dict"
            ]
          },
          "metadata": {},
          "execution_count": 42
        }
      ]
    },
    {
      "cell_type": "code",
      "source": [
        "# it is of DatasetDict(dictionary) type\n",
        "# DatasetDict是一种字典类的数据结构，用于以一种统一且方便的方式管理多个Dataset对象\n",
        "print(type(raw_dataset)) # it has items() method\n",
        "print(\"\\nits length is\",len(raw_dataset),\"\\n\")\n",
        "raw_dataset"
      ],
      "metadata": {
        "colab": {
          "base_uri": "https://localhost:8080/"
        },
        "id": "6qn5wcR_-EyI",
        "outputId": "8f1163bf-a598-43a5-b854-f2d25c38138f"
      },
      "execution_count": 29,
      "outputs": [
        {
          "output_type": "stream",
          "name": "stdout",
          "text": [
            "<class 'datasets.dataset_dict.DatasetDict'>\n",
            "\n",
            "its length is 1 \n",
            "\n"
          ]
        },
        {
          "output_type": "execute_result",
          "data": {
            "text/plain": [
              "DatasetDict({\n",
              "    validation: Dataset({\n",
              "        features: ['sentence', 'label', 'idx'],\n",
              "        num_rows: 872\n",
              "    })\n",
              "})"
            ]
          },
          "metadata": {},
          "execution_count": 29
        }
      ]
    },
    {
      "cell_type": "code",
      "source": [
        "# it is of Dataset(set) type\n",
        "# 在 Hugging Face Datasets 库中，Dataset 对象是存储和操作数据的基本单元\n",
        "print(type(raw_dataset[\"validation\"]))\n",
        "print(\"\\nits length is\",len(raw_dataset[\"validation\"]),\"\\n\")\n",
        "raw_dataset[\"validation\"]"
      ],
      "metadata": {
        "colab": {
          "base_uri": "https://localhost:8080/"
        },
        "id": "KqYR--zEGaxG",
        "outputId": "fe1be382-56b4-4e51-995a-a5f23c938233"
      },
      "execution_count": 20,
      "outputs": [
        {
          "output_type": "stream",
          "name": "stdout",
          "text": [
            "<class 'datasets.arrow_dataset.Dataset'>\n",
            "\n",
            "its length is 872 \n",
            "\n"
          ]
        },
        {
          "output_type": "execute_result",
          "data": {
            "text/plain": [
              "Dataset({\n",
              "    features: ['sentence', 'label', 'idx'],\n",
              "    num_rows: 872\n",
              "})"
            ]
          },
          "metadata": {},
          "execution_count": 20
        }
      ]
    },
    {
      "cell_type": "code",
      "source": [
        "# it is of list type\n",
        "print(type(raw_dataset[\"validation\"][\"sentence\"]))\n",
        "print(\"\\nits length is\",len(raw_dataset[\"validation\"][\"sentence\"]),\"\\n\")\n",
        "#raw_dataset[\"validation\"][\"sentence\"]"
      ],
      "metadata": {
        "collapsed": true,
        "id": "vOJJthZ0F7td",
        "outputId": "d8b35fdc-bfdf-46d9-9f17-1e128372e6de",
        "colab": {
          "base_uri": "https://localhost:8080/"
        }
      },
      "execution_count": 21,
      "outputs": [
        {
          "output_type": "stream",
          "name": "stdout",
          "text": [
            "<class 'list'>\n",
            "\n",
            "its length is 872 \n",
            "\n"
          ]
        }
      ]
    },
    {
      "cell_type": "code",
      "source": [
        "tokenized_dataset"
      ],
      "metadata": {
        "colab": {
          "base_uri": "https://localhost:8080/"
        },
        "id": "6ePfH37zCxj_",
        "outputId": "82bb380f-eb9e-4c76-cdff-8517ca1db7c8"
      },
      "execution_count": null,
      "outputs": [
        {
          "output_type": "execute_result",
          "data": {
            "text/plain": [
              "DatasetDict({\n",
              "    validation: Dataset({\n",
              "        features: ['sentence', 'label', 'idx', 'input_ids', 'token_type_ids', 'attention_mask'],\n",
              "        num_rows: 872\n",
              "    })\n",
              "})"
            ]
          },
          "metadata": {},
          "execution_count": 43
        }
      ]
    }
  ]
}