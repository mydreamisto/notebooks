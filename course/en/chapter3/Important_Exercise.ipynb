{
  "nbformat": 4,
  "nbformat_minor": 0,
  "metadata": {
    "colab": {
      "provenance": [],
      "authorship_tag": "ABX9TyMhwqfZcBez8N356Cv2TL7c",
      "include_colab_link": true
    },
    "kernelspec": {
      "name": "python3",
      "display_name": "Python 3"
    },
    "language_info": {
      "name": "python"
    }
  },
  "cells": [
    {
      "cell_type": "markdown",
      "metadata": {
        "id": "view-in-github",
        "colab_type": "text"
      },
      "source": [
        "<a href=\"https://colab.research.google.com/github/mydreamisto/notebooks/blob/main/course/en/chapter3/Important_Exercise.ipynb\" target=\"_parent\"><img src=\"https://colab.research.google.com/assets/colab-badge.svg\" alt=\"Open In Colab\"/></a>"
      ]
    },
    {
      "cell_type": "markdown",
      "source": [
        "# Try it out! Fine-tune a model on the GLUE SST-2 dataset, using the data processing you did in section 2."
      ],
      "metadata": {
        "id": "O-9U6f1G3Di8"
      }
    },
    {
      "cell_type": "code",
      "source": [
        "!pip install datasets"
      ],
      "metadata": {
        "id": "BMgL8YVH4ADI"
      },
      "execution_count": null,
      "outputs": []
    },
    {
      "cell_type": "code",
      "source": [
        "from datasets import load_dataset\n",
        "\n",
        "# it is of DatasetDic(dictionary) tpye, which has items() method\n",
        "raw_dataset = load_dataset(\"gimmaru/glue-sst2\")\n",
        "# it is of Dataset(set) tpye, which has no items() method\n",
        "raw_validation_dataset = raw_dataset[\"validation\"]\n",
        "\n",
        "from transformers import AutoModel, AutoTokenizer, DataCollatorWithPadding\n",
        "checkpoint = \"bert-base-uncased\"\n",
        "model = AutoModel.from_pretrained(checkpoint)\n",
        "tokenizer = AutoTokenizer.from_pretrained(checkpoint)\n",
        "data_collator = DataCollatorWithPadding(tokenizer = tokenizer)\n",
        "\n",
        "# 定义的tokenize_function函数其参数是一个DatasetDic(dictionary)，其返回值也是一个DatasetDic(dictionary).\n",
        "def tokenize_function(example):\n",
        "  # example[\"sentence\"] is of Dataset type\n",
        "  return tokenizer(example[\"sentence\"], truncation = True)\n",
        "# Dataset.map() 对Dataset里的每个元素都调用一次tokenize_function函数，其返回的也是字典\n",
        "tokenized_dataset = raw_dataset.map(tokenize_function, batched = True)\n",
        "\n",
        "# it is of dictionary tpye, which has items() method\n",
        "samples = tokenized_dataset[\"validation\"][:8]\n",
        "samples = {k: v for k, v in samples.items() if k not in [\"idx\", \"sentence\"]}\n",
        "batch = data_collator(samples)"
      ],
      "metadata": {
        "id": "wLyGcMES9q8d"
      },
      "execution_count": null,
      "outputs": []
    }
  ]
}